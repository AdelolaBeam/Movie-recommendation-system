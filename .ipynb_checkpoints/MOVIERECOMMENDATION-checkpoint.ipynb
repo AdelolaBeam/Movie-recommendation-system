{
 "cells": [
  {
   "cell_type": "code",
   "execution_count": 1,
   "id": "599e7f6f",
   "metadata": {},
   "outputs": [],
   "source": [
    "import sqlite3 as sql"
   ]
  },
  {
   "cell_type": "markdown",
   "id": "485a17f0",
   "metadata": {},
   "source": [
    "## Creating a table ##"
   ]
  },
  {
   "cell_type": "code",
   "execution_count": 2,
   "id": "c611f4bd",
   "metadata": {},
   "outputs": [],
   "source": [
    "connect = sql.connect('movie recommendation.db')"
   ]
  },
  {
   "cell_type": "code",
   "execution_count": 3,
   "id": "6c023e8f",
   "metadata": {},
   "outputs": [
    {
     "data": {
      "text/plain": [
       "<sqlite3.Connection at 0x1c843c78d50>"
      ]
     },
     "execution_count": 3,
     "metadata": {},
     "output_type": "execute_result"
    }
   ],
   "source": [
    "connect"
   ]
  },
  {
   "cell_type": "code",
   "execution_count": 4,
   "id": "89d0768f",
   "metadata": {},
   "outputs": [
    {
     "name": "stdout",
     "output_type": "stream",
     "text": [
      "Table successfully created\n"
     ]
    }
   ],
   "source": [
    "#to create a table we use execute method followed by the command create table table-name inside three quotion\n",
    "connect.execute('''CREATE TABLE MOVIERECOMMENDATION\n",
    "               (ID INT PRIMARY KEY NOT NULL,\n",
    "                NAME TEXT NOT NULL, \n",
    "                MOVIENAME TEXT NOT NULL,\n",
    "                GENRE TEXT NOT NULL,\n",
    "                RATING INT NOT NULL,\n",
    "                DATEREALEASED TEXT NOT NULL\n",
    "                )''')\n",
    "print (\"Table successfully created\")"
   ]
  },
  {
   "cell_type": "code",
   "execution_count": null,
   "id": "99a11be4",
   "metadata": {},
   "outputs": [],
   "source": []
  },
  {
   "cell_type": "code",
   "execution_count": null,
   "id": "b5b7638c",
   "metadata": {},
   "outputs": [],
   "source": []
  },
  {
   "cell_type": "code",
   "execution_count": null,
   "id": "146fdc5e",
   "metadata": {},
   "outputs": [],
   "source": []
  }
 ],
 "metadata": {
  "kernelspec": {
   "display_name": "Python 3 (ipykernel)",
   "language": "python",
   "name": "python3"
  },
  "language_info": {
   "codemirror_mode": {
    "name": "ipython",
    "version": 3
   },
   "file_extension": ".py",
   "mimetype": "text/x-python",
   "name": "python",
   "nbconvert_exporter": "python",
   "pygments_lexer": "ipython3",
   "version": "3.9.12"
  }
 },
 "nbformat": 4,
 "nbformat_minor": 5
}
