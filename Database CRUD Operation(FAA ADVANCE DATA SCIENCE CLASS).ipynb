{
 "cells": [
  {
   "cell_type": "code",
   "execution_count": 1,
   "id": "03f13f0c",
   "metadata": {},
   "outputs": [],
   "source": [
    "%matplotlib inline"
   ]
  },
  {
   "cell_type": "code",
   "execution_count": 2,
   "id": "8032f8e1",
   "metadata": {},
   "outputs": [],
   "source": [
    "import sqlite3 as sql"
   ]
  },
  {
   "cell_type": "code",
   "execution_count": 3,
   "id": "7e314d31",
   "metadata": {},
   "outputs": [
    {
     "name": "stdout",
     "output_type": "stream",
     "text": [
      "data base connected successfully 👍\n"
     ]
    }
   ],
   "source": [
    "conn = sql.connect('movierecommendation.db')\n",
    "print('data base connected successfully 👍')"
   ]
  },
  {
   "cell_type": "markdown",
   "id": "769139ba",
   "metadata": {},
   "source": [
    "# INSERT OPERATION ##"
   ]
  },
  {
   "cell_type": "markdown",
   "id": "59d9c4f4",
   "metadata": {},
   "source": [
    "# Adding values to the database movie recommendation table column"
   ]
  },
  {
   "cell_type": "code",
   "execution_count": 4,
   "id": "d3978804",
   "metadata": {},
   "outputs": [
    {
     "name": "stdout",
     "output_type": "stream",
     "text": [
      "values inserted into the movie recommendation table\n"
     ]
    }
   ],
   "source": [
    "#Insert into table, followed by the table column names, values keyword to start adding the value\n",
    "conn.execute(\"INSERT INTO MOVIERECOMMENDATION (ID, NAME, MOVIENAME, GENRE, RATING, DATERELEASED) \\\n",
    "              VALUES(1, 'TOLIAT', 'ANIKULAPO', 'DRAMA', 3, '2022-09-02')\");\n",
    "conn.execute(\"INSERT INTO MOVIERECOMMENDATION (ID, NAME, MOVIENAME, GENRE, RATING, DATERELEASED) \\\n",
    "              VALUES(2, 'MOYATO', 'Gun girl', 'Thriller', 4, '2021-09-02')\");\n",
    "conn.execute(\"INSERT INTO MOVIERECOMMENDATION (ID, NAME, MOVIENAME, GENRE, RATING, DATERELEASED) \\\n",
    "              VALUES(3, 'Oyedola Elijah', 'Thor', 'Action', 4, '2022-06-02')\");\n",
    "conn.execute(\"INSERT INTO MOVIERECOMMENDATION (ID, NAME, MOVIENAME, GENRE, RATING, DATERELEASED) \\\n",
    "              VALUES(4, 'Paul Adelola', 'The Lost city', 'Comedy', 5, '2020-08-01')\");\n",
    "conn.commit()\n",
    "print('values inserted into the movie recommendation table')\n",
    "#conn.close() #to end sql"
   ]
  },
  {
   "cell_type": "code",
   "execution_count": 5,
   "id": "b33e529d",
   "metadata": {},
   "outputs": [],
   "source": [
    "GETALLVALUES = conn.execute(\"SELECT ID, NAME, MOVIENAME, GENRE, RATING, DATERELEASED FROM MOVIERECOMMENDATION\")"
   ]
  },
  {
   "cell_type": "code",
   "execution_count": 6,
   "id": "a5cc9cc0",
   "metadata": {},
   "outputs": [
    {
     "data": {
      "text/plain": [
       "[(1, 'TOLIAT', 'ANIKULAPO', 'DRAMA', 3, '2022-09-02'),\n",
       " (2, 'MOYATO', 'Gun girl', 'Thriller', 4, '2021-09-02'),\n",
       " (3, 'Oyedola Elijah', 'Thor', 'Action', 4, '2022-06-02'),\n",
       " (4, 'Paul Adelola', 'The Lost city', 'Comedy', 5, '2020-08-01')]"
      ]
     },
     "execution_count": 6,
     "metadata": {},
     "output_type": "execute_result"
    }
   ],
   "source": [
    "GETALLVALUES.fetchall()"
   ]
  },
  {
   "cell_type": "code",
   "execution_count": 7,
   "id": "2f9a3a98",
   "metadata": {},
   "outputs": [],
   "source": [
    "#for val in GETALLVALUES.fetchall():\n",
    " #   print(val)"
   ]
  },
  {
   "cell_type": "code",
   "execution_count": 8,
   "id": "4937693c",
   "metadata": {},
   "outputs": [],
   "source": [
    "GETRATINGGREATERTHANTHREE = conn.execute(\"SELECT ID, NAME, MOVIENAME, GENRE, RATING, DATERELEASED FROM MOVIERECOMMENDATION WHERE RATING >3\")"
   ]
  },
  {
   "cell_type": "code",
   "execution_count": 9,
   "id": "b4c0a131",
   "metadata": {},
   "outputs": [
    {
     "data": {
      "text/plain": [
       "[(2, 'MOYATO', 'Gun girl', 'Thriller', 4, '2021-09-02'),\n",
       " (3, 'Oyedola Elijah', 'Thor', 'Action', 4, '2022-06-02'),\n",
       " (4, 'Paul Adelola', 'The Lost city', 'Comedy', 5, '2020-08-01')]"
      ]
     },
     "execution_count": 9,
     "metadata": {},
     "output_type": "execute_result"
    }
   ],
   "source": [
    "GETRATINGGREATERTHANTHREE.fetchall()"
   ]
  },
  {
   "cell_type": "code",
   "execution_count": 10,
   "id": "04b708cc",
   "metadata": {},
   "outputs": [],
   "source": [
    "GETPAUL = conn.execute(\"SELECT * FROM MOVIERECOMMENDATION WHERE NAME ='Paul Adelola'\")"
   ]
  },
  {
   "cell_type": "code",
   "execution_count": 11,
   "id": "f56591e3",
   "metadata": {},
   "outputs": [
    {
     "data": {
      "text/plain": [
       "[(4, 'Paul Adelola', 'The Lost city', 'Comedy', 5, '2020-08-01')]"
      ]
     },
     "execution_count": 11,
     "metadata": {},
     "output_type": "execute_result"
    }
   ],
   "source": [
    "GETPAUL.fetchall()"
   ]
  },
  {
   "cell_type": "markdown",
   "id": "c24d9bb3",
   "metadata": {},
   "source": [
    "# UPDATE OPERATION"
   ]
  },
  {
   "cell_type": "code",
   "execution_count": 12,
   "id": "56cf93e2",
   "metadata": {},
   "outputs": [],
   "source": [
    "UPDATEANIKULAPORATING = conn.execute(\"UPDATE MOVIERECOMMENDATION SET RATING = 4 WHERE ID =1 \")"
   ]
  },
  {
   "cell_type": "code",
   "execution_count": 13,
   "id": "ef82877d",
   "metadata": {},
   "outputs": [
    {
     "data": {
      "text/plain": [
       "[]"
      ]
     },
     "execution_count": 13,
     "metadata": {},
     "output_type": "execute_result"
    }
   ],
   "source": [
    "UPDATEANIKULAPORATING.fetchall()"
   ]
  },
  {
   "cell_type": "code",
   "execution_count": 14,
   "id": "f5c19879",
   "metadata": {},
   "outputs": [],
   "source": [
    "GETALLVALUES = conn.execute(\"SELECT * FROM MOVIERECOMMENDATION\")"
   ]
  },
  {
   "cell_type": "code",
   "execution_count": 15,
   "id": "140f1337",
   "metadata": {},
   "outputs": [
    {
     "data": {
      "text/plain": [
       "[(1, 'TOLIAT', 'ANIKULAPO', 'DRAMA', 4, '2022-09-02'),\n",
       " (2, 'MOYATO', 'Gun girl', 'Thriller', 4, '2021-09-02'),\n",
       " (3, 'Oyedola Elijah', 'Thor', 'Action', 4, '2022-06-02'),\n",
       " (4, 'Paul Adelola', 'The Lost city', 'Comedy', 5, '2020-08-01')]"
      ]
     },
     "execution_count": 15,
     "metadata": {},
     "output_type": "execute_result"
    }
   ],
   "source": [
    "GETALLVALUES.fetchall()"
   ]
  },
  {
   "cell_type": "markdown",
   "id": "dc63503d",
   "metadata": {},
   "source": [
    "# DELETE OPERATION"
   ]
  },
  {
   "cell_type": "code",
   "execution_count": 16,
   "id": "edc0fa80",
   "metadata": {},
   "outputs": [],
   "source": [
    "INSERTANEWROW= conn.execute(\"SELECT * FROM MOVIERECOMMENDATION\")\n",
    "conn.execute(\"INSERT INTO MOVIERECOMMENDATION (ID, NAME, MOVIENAME, GENRE, RATING, DATERELEASED) \\\n",
    "VALUES(7, 'Anonymous', 'shaolin soccer','sport',3, '2012-09-02')\");"
   ]
  },
  {
   "cell_type": "code",
   "execution_count": 17,
   "id": "743cf5f8",
   "metadata": {},
   "outputs": [
    {
     "data": {
      "text/plain": [
       "[(1, 'TOLIAT', 'ANIKULAPO', 'DRAMA', 4, '2022-09-02'),\n",
       " (2, 'MOYATO', 'Gun girl', 'Thriller', 4, '2021-09-02'),\n",
       " (3, 'Oyedola Elijah', 'Thor', 'Action', 4, '2022-06-02'),\n",
       " (4, 'Paul Adelola', 'The Lost city', 'Comedy', 5, '2020-08-01'),\n",
       " (7, 'Anonymous', 'shaolin soccer', 'sport', 3, '2012-09-02')]"
      ]
     },
     "execution_count": 17,
     "metadata": {},
     "output_type": "execute_result"
    }
   ],
   "source": [
    "conn.execute(\"SELECT * FROM MOVIERECOMMENDATION\").fetchall()"
   ]
  },
  {
   "cell_type": "code",
   "execution_count": 18,
   "id": "c92fd24c",
   "metadata": {},
   "outputs": [
    {
     "name": "stdout",
     "output_type": "stream",
     "text": [
      "row with id=7 has been deleted\n"
     ]
    }
   ],
   "source": [
    "DELETEANONYMOUS = conn.execute(\"DELETE FROM MOVIERECOMMENDATION WHERE ID=7 \").fetchall()\n",
    "print(\"row with id=7 has been deleted\")"
   ]
  },
  {
   "cell_type": "code",
   "execution_count": 19,
   "id": "7406b7bc",
   "metadata": {},
   "outputs": [
    {
     "data": {
      "text/plain": [
       "[(1, 'TOLIAT', 'ANIKULAPO', 'DRAMA', 4, '2022-09-02'),\n",
       " (2, 'MOYATO', 'Gun girl', 'Thriller', 4, '2021-09-02'),\n",
       " (3, 'Oyedola Elijah', 'Thor', 'Action', 4, '2022-06-02'),\n",
       " (4, 'Paul Adelola', 'The Lost city', 'Comedy', 5, '2020-08-01')]"
      ]
     },
     "execution_count": 19,
     "metadata": {},
     "output_type": "execute_result"
    }
   ],
   "source": [
    "conn.execute(\"SELECT * FROM MOVIERECOMMENDATION\").fetchall()"
   ]
  },
  {
   "cell_type": "code",
   "execution_count": null,
   "id": "c0271e49",
   "metadata": {},
   "outputs": [],
   "source": []
  }
 ],
 "metadata": {
  "kernelspec": {
   "display_name": "Python 3 (ipykernel)",
   "language": "python",
   "name": "python3"
  },
  "language_info": {
   "codemirror_mode": {
    "name": "ipython",
    "version": 3
   },
   "file_extension": ".py",
   "mimetype": "text/x-python",
   "name": "python",
   "nbconvert_exporter": "python",
   "pygments_lexer": "ipython3",
   "version": "3.9.12"
  }
 },
 "nbformat": 4,
 "nbformat_minor": 5
}
